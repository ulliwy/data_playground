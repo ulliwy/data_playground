{
 "cells": [
  {
   "cell_type": "markdown",
   "metadata": {},
   "source": [
    "# Titanic Data Analysis"
   ]
  },
  {
   "cell_type": "markdown",
   "metadata": {},
   "source": [
    "For P2 project I choose Titanic Dataset that contains demographics and passenger information from 891 of the 2224 passengers and crew on board the Titanic. According the description and analysis of this dataset the most interesting questions for me are:\n",
    "- How many people from different passenger classes survived? Is it more likely to survive for passengers from 1st class? What factors made passengers more likely to survive?\n",
    "- Is there a correlation between survival and age? \n",
    "- What prices people paid for better passenger classes? How much people were in different classes?"
   ]
  },
  {
   "cell_type": "markdown",
   "metadata": {},
   "source": [
    "### Extracting data"
   ]
  },
  {
   "cell_type": "code",
   "execution_count": 67,
   "metadata": {
    "collapsed": false
   },
   "outputs": [],
   "source": [
    "import pandas as pd\n",
    "\n",
    "filename = '/Users/Ulliwy/study/P2/project/titanic_data.csv'\n",
    "titanic_data = pd.read_csv(filename)"
   ]
  },
  {
   "cell_type": "code",
   "execution_count": 68,
   "metadata": {
    "collapsed": false
   },
   "outputs": [
    {
     "data": {
      "text/html": [
       "<div>\n",
       "<table border=\"1\" class=\"dataframe\">\n",
       "  <thead>\n",
       "    <tr style=\"text-align: right;\">\n",
       "      <th></th>\n",
       "      <th>PassengerId</th>\n",
       "      <th>Survived</th>\n",
       "      <th>Pclass</th>\n",
       "      <th>Name</th>\n",
       "      <th>Sex</th>\n",
       "      <th>Age</th>\n",
       "      <th>SibSp</th>\n",
       "      <th>Parch</th>\n",
       "      <th>Ticket</th>\n",
       "      <th>Fare</th>\n",
       "      <th>Cabin</th>\n",
       "      <th>Embarked</th>\n",
       "    </tr>\n",
       "  </thead>\n",
       "  <tbody>\n",
       "    <tr>\n",
       "      <th>0</th>\n",
       "      <td>1</td>\n",
       "      <td>0</td>\n",
       "      <td>3</td>\n",
       "      <td>Braund, Mr. Owen Harris</td>\n",
       "      <td>male</td>\n",
       "      <td>22.0</td>\n",
       "      <td>1</td>\n",
       "      <td>0</td>\n",
       "      <td>A/5 21171</td>\n",
       "      <td>7.2500</td>\n",
       "      <td>NaN</td>\n",
       "      <td>S</td>\n",
       "    </tr>\n",
       "    <tr>\n",
       "      <th>1</th>\n",
       "      <td>2</td>\n",
       "      <td>1</td>\n",
       "      <td>1</td>\n",
       "      <td>Cumings, Mrs. John Bradley (Florence Briggs Th...</td>\n",
       "      <td>female</td>\n",
       "      <td>38.0</td>\n",
       "      <td>1</td>\n",
       "      <td>0</td>\n",
       "      <td>PC 17599</td>\n",
       "      <td>71.2833</td>\n",
       "      <td>C85</td>\n",
       "      <td>C</td>\n",
       "    </tr>\n",
       "    <tr>\n",
       "      <th>2</th>\n",
       "      <td>3</td>\n",
       "      <td>1</td>\n",
       "      <td>3</td>\n",
       "      <td>Heikkinen, Miss. Laina</td>\n",
       "      <td>female</td>\n",
       "      <td>26.0</td>\n",
       "      <td>0</td>\n",
       "      <td>0</td>\n",
       "      <td>STON/O2. 3101282</td>\n",
       "      <td>7.9250</td>\n",
       "      <td>NaN</td>\n",
       "      <td>S</td>\n",
       "    </tr>\n",
       "    <tr>\n",
       "      <th>3</th>\n",
       "      <td>4</td>\n",
       "      <td>1</td>\n",
       "      <td>1</td>\n",
       "      <td>Futrelle, Mrs. Jacques Heath (Lily May Peel)</td>\n",
       "      <td>female</td>\n",
       "      <td>35.0</td>\n",
       "      <td>1</td>\n",
       "      <td>0</td>\n",
       "      <td>113803</td>\n",
       "      <td>53.1000</td>\n",
       "      <td>C123</td>\n",
       "      <td>S</td>\n",
       "    </tr>\n",
       "    <tr>\n",
       "      <th>4</th>\n",
       "      <td>5</td>\n",
       "      <td>0</td>\n",
       "      <td>3</td>\n",
       "      <td>Allen, Mr. William Henry</td>\n",
       "      <td>male</td>\n",
       "      <td>35.0</td>\n",
       "      <td>0</td>\n",
       "      <td>0</td>\n",
       "      <td>373450</td>\n",
       "      <td>8.0500</td>\n",
       "      <td>NaN</td>\n",
       "      <td>S</td>\n",
       "    </tr>\n",
       "  </tbody>\n",
       "</table>\n",
       "</div>"
      ],
      "text/plain": [
       "   PassengerId  Survived  Pclass  \\\n",
       "0            1         0       3   \n",
       "1            2         1       1   \n",
       "2            3         1       3   \n",
       "3            4         1       1   \n",
       "4            5         0       3   \n",
       "\n",
       "                                                Name     Sex   Age  SibSp  \\\n",
       "0                            Braund, Mr. Owen Harris    male  22.0      1   \n",
       "1  Cumings, Mrs. John Bradley (Florence Briggs Th...  female  38.0      1   \n",
       "2                             Heikkinen, Miss. Laina  female  26.0      0   \n",
       "3       Futrelle, Mrs. Jacques Heath (Lily May Peel)  female  35.0      1   \n",
       "4                           Allen, Mr. William Henry    male  35.0      0   \n",
       "\n",
       "   Parch            Ticket     Fare Cabin Embarked  \n",
       "0      0         A/5 21171   7.2500   NaN        S  \n",
       "1      0          PC 17599  71.2833   C85        C  \n",
       "2      0  STON/O2. 3101282   7.9250   NaN        S  \n",
       "3      0            113803  53.1000  C123        S  \n",
       "4      0            373450   8.0500   NaN        S  "
      ]
     },
     "execution_count": 68,
     "metadata": {},
     "output_type": "execute_result"
    }
   ],
   "source": [
    "titanic_data.head()"
   ]
  },
  {
   "cell_type": "markdown",
   "metadata": {},
   "source": [
    "### 1st question investigation\n",
    "How many people from different passenger classes survived?\n",
    "Firstly, the question is does it really more likely to survive for passengers in first class than for passengers in third class?"
   ]
  },
  {
   "cell_type": "code",
   "execution_count": 99,
   "metadata": {
    "collapsed": false
   },
   "outputs": [],
   "source": [
    "def calc_percentage(data, Pclass):                                   #calculating statistics according passenger class\n",
    "    all_passengers = data.groupby(['Pclass']).get_group(Pclass)\n",
    "    male = data[data.Sex == 'male'].groupby(['Pclass']).get_group(Pclass)\n",
    "    female = data[data.Sex == 'female'].groupby(['Pclass']).get_group(Pclass)\n",
    "    survived = data.groupby(['Pclass', 'Survived']).get_group((Pclass, 1))\n",
    "    survived_percentage = (float(len(survived)) / float(len(all_passengers)))*100\n",
    "    return survived_percentage, len(all_passengers), len(survived), len(female), len(male)"
   ]
  },
  {
   "cell_type": "code",
   "execution_count": 100,
   "metadata": {
    "collapsed": false
   },
   "outputs": [
    {
     "name": "stdout",
     "output_type": "stream",
     "text": [
      "Statistics per class:\n",
      "1st class: all 216, survived 94, female 122, male 136, percentage 62.96 %\n",
      "2nd class: all 184, survived 76, female 108, male 87, percentage 47.28 %\n",
      "3rd class: all 491, survived 144, female 347, male 119, percentage 24.24 %\n"
     ]
    }
   ],
   "source": [
    "first_class_stat = calc_percentage(titanic_data, 1)\n",
    "second_class_stat = calc_percentage(titanic_data, 2)\n",
    "third_class_stat = calc_percentage(titanic_data, 3)\n",
    "\n",
    "print 'Statistics per class:'\n",
    "print '1st class: all {}, survived {}, female {}, male {}, percentage {:.2f}'.format(first_class_stat[1], first_class_stat[3], first_class_stat[4], first_class_stat[2], first_class_stat[0]),'%'\n",
    "print '2nd class: all {}, survived {}, female {}, male {}, percentage {:.2f}'.format(second_class_stat[1], second_class_stat[3], second_class_stat[4], second_class_stat[2], second_class_stat[0]),'%'\n",
    "print '3rd class: all {}, survived {}, female {}, male {}, percentage {:.2f}'.format(third_class_stat[1], third_class_stat[3], third_class_stat[4], third_class_stat[2], third_class_stat[0]),'%'"
   ]
  },
  {
   "cell_type": "markdown",
   "metadata": {},
   "source": [
    "According this statistics, it is noticed that there are more people from 1st class who survived. To find if there is really tendency for 1st class passengers to survive I'll perform test.\n",
    "\n",
    "Question: is survival percentage for 1st class is higher than for 3rd class or not?\n",
    "- Null hypothesis: the probability of survival for passengers from first class is lower or the same as for the passengers from third class.\n",
    "- Alternative hypothesis: the probability of survival for passengers from 1st class is higher than for passengers from third class.\n",
    "\n",
    "In this case I will treat this dataset as a sample (making investigation for purposes of inference and taking Titanic data sample to confirm or reject the hypothesis). As soon as there is no real population parameter such as mean value or standard deviation of a population and we only have a sample the t-test was chosen to find how different the percentage of survival for this two classes are. I’ll perform one-tailed test in positive direction with α = .05, this will allow to say if results are statistically significant."
   ]
  },
  {
   "cell_type": "code",
   "execution_count": 102,
   "metadata": {
    "collapsed": false
   },
   "outputs": [
    {
     "name": "stdout",
     "output_type": "stream",
     "text": [
      "Survival probability in 1st class. Average:  0.62962962963 , std:  0.484025611327\n",
      "Survival probability in 3rd class. Average:  0.242362525458 , std:  0.428949498646\n",
      "t-stat value is:  10.1374169524\n"
     ]
    }
   ],
   "source": [
    "import math\n",
    "\n",
    "first_class = titanic_data.groupby(['Pclass']).get_group(1) #1st class passengers\n",
    "mean_first_class = first_class['Survived'].mean()\n",
    "std_first_class = first_class['Survived'].std()\n",
    "print 'Survival probability in 1st class. Average: ', mean_first_class, ', std: ', std_first_class\n",
    "\n",
    "third_class = titanic_data.groupby(['Pclass']).get_group(3) #3rd class passengers\n",
    "mean_third_class = third_class['Survived'].mean()\n",
    "std_third_class = third_class['Survived'].std()\n",
    "print 'Survival probability in 3rd class. Average: ', mean_third_class, ', std: ', std_third_class\n",
    "\n",
    "se = math.sqrt(((float(std_first_class)**2) / float(len(first_class))) + ((float(std_third_class)**2) / float(len(third_class))))\n",
    "tstat = (mean_first_class - mean_third_class) / se #calc t-stat\n",
    "print 't-stat value is: ', tstat"
   ]
  },
  {
   "cell_type": "markdown",
   "metadata": {},
   "source": [
    "Result: these results are statistically significant. Reject null.\n",
    "\n",
    "Conclusion: after statistical investigation it is possible to conclude that survival in first class is much higher than in third class, this result corresponds original hypothesis.\n",
    "\n",
    "According this result there is more interesting question: does the survival really depend on a class? Or there were more factors that affected survival on Titanic? As we know during evacuation from the ship there were a priority for women and children to take place on lifeboats. To find this it is necessary to know: does survival depend on sex?\n",
    "\n",
    "To test the hypothesis chi-squared test was chosen. The chi-squared test is used to determine whether there is a significant difference between the expected frequencies and the observed frequencies. Does the number of survived fall in each category (passenger class) differ significantly from the number that we expect? Is the distribution of survival rates across passengers in different classes differs from a uniform distribution in a statistically significant way. According this there are hypothesis:\n",
    "- Null hypothesis: the survival doesn't really depend on passenger class.\n",
    "- Alternative hypothesis: the survival depends on passenger class.\n",
    "\n",
    "To test this, I'll perform chi-squared test with critical chi-squared value with p = .05."
   ]
  },
  {
   "cell_type": "code",
   "execution_count": 103,
   "metadata": {
    "collapsed": false
   },
   "outputs": [],
   "source": [
    "def calc_chi_squared(group1, group2): #calculating test statistic according grouped values\n",
    "    count_surv = group1.agg('count').iloc[:,0]\n",
    "    count_vict = group2.agg('count').iloc[:,0]\n",
    "   \n",
    "    matrix = pd.concat([count_vict, count_surv], axis = 1).fillna(0)\n",
    "    total_x = matrix.sum(axis=0)\n",
    "    total_y = matrix.sum(axis=1)\n",
    "    print 'Observed values: '\n",
    "    print matrix\n",
    "\n",
    "    m1 = pd.DataFrame(total_x)\n",
    "    m2 = pd.DataFrame(total_y)\n",
    "    expected = (m1.dot(m2.T)/float(total_x.values.sum())).transpose()\n",
    "    print 'Expected values: '\n",
    "    print expected\n",
    "    \n",
    "    stat = (matrix - expected)**2 / expected\n",
    "    return stat.values.sum()"
   ]
  },
  {
   "cell_type": "code",
   "execution_count": 104,
   "metadata": {
    "collapsed": false
   },
   "outputs": [
    {
     "name": "stdout",
     "output_type": "stream",
     "text": [
      "Does survival depend on sex?\n",
      "Observed values: \n",
      "        PassengerId  PassengerId\n",
      "Sex                             \n",
      "female           81          233\n",
      "male            468          109\n",
      "Expected values: \n",
      "        PassengerId  PassengerId\n",
      "Sex                             \n",
      "female   193.474747   120.525253\n",
      "male     355.525253   221.474747\n",
      "263.050574071\n"
     ]
    }
   ],
   "source": [
    "survived_grouped_by_sex = titanic_data[titanic_data.Survived == 1].groupby(['Sex'])\n",
    "victims_grouped_by_sex = titanic_data[titanic_data.Survived == 0].groupby(['Sex'])\n",
    "print 'Does survival depend on sex?'\n",
    "print calc_chi_squared(survived_grouped_by_sex, victims_grouped_by_sex)\n"
   ]
  },
  {
   "cell_type": "markdown",
   "metadata": {},
   "source": [
    "Result: as soon as df = 1 and critical χ2 = 3.841 it is possible to reject null and make a conclusion that there is strong dependence between sex and survival. That totally confirms that there was a priority for women during evacuation.\n",
    "Also I've performed that test to find dependence between passenger class and deck where passengers cabins were."
   ]
  },
  {
   "cell_type": "code",
   "execution_count": 105,
   "metadata": {
    "collapsed": false
   },
   "outputs": [
    {
     "name": "stdout",
     "output_type": "stream",
     "text": [
      "Does survival depend on class?\n",
      "Observed values: \n",
      "        PassengerId  PassengerId\n",
      "Pclass                          \n",
      "1                80          136\n",
      "2                97           87\n",
      "3               372          119\n",
      "Expected values: \n",
      "        PassengerId  PassengerId\n",
      "Pclass                          \n",
      "1        133.090909    82.909091\n",
      "2        113.373737    70.626263\n",
      "3        302.535354   188.464646\n",
      "102.888988757\n"
     ]
    }
   ],
   "source": [
    "#grouped by pclass\n",
    "survived_grouped_by_pclass = titanic_data[titanic_data.Survived == 1].groupby(['Pclass']) \n",
    "victims_grouped_by_pclass = titanic_data[titanic_data.Survived == 0].groupby(['Pclass'])\n",
    "\n",
    "print 'Does survival depend on class?'\n",
    "print calc_chi_squared(survived_grouped_by_pclass, victims_grouped_by_pclass)\n"
   ]
  },
  {
   "cell_type": "markdown",
   "metadata": {},
   "source": [
    "Result: df = 2 and critical χ2 = 5.991. It is possible to make a conclusion that there is strong dependence on class for survival."
   ]
  },
  {
   "cell_type": "code",
   "execution_count": 106,
   "metadata": {
    "collapsed": false
   },
   "outputs": [
    {
     "name": "stdout",
     "output_type": "stream",
     "text": [
      "Does survival depend on sex in class?\n",
      "Observed values: \n",
      "        PassengerId  PassengerId\n",
      "Pclass                          \n",
      "1                91           45\n",
      "2                70           17\n",
      "3                72           47\n",
      "Expected values: \n",
      "        PassengerId  PassengerId\n",
      "Pclass                          \n",
      "1         92.654971    43.345029\n",
      "2         59.271930    27.728070\n",
      "3         81.073099    37.926901\n",
      "9.37113933546\n"
     ]
    }
   ],
   "source": [
    "#to see is there a dependence between women and men among class\n",
    "survived_males_by_pclass = titanic_data[(titanic_data.Survived == 1) & (titanic_data.Sex == 'male')].groupby(['Pclass'])\n",
    "survived_females_by_pclass = titanic_data[(titanic_data.Survived == 1) & (titanic_data.Sex == 'female')].groupby(['Pclass'])\n",
    "\n",
    "print 'Does survival depend on sex in class?'\n",
    "print calc_chi_squared(survived_males_by_pclass, survived_females_by_pclass)"
   ]
  },
  {
   "cell_type": "markdown",
   "metadata": {},
   "source": [
    "Result: df = 2 and critical χ2 = 5.991 it is possible to reject null. But as soon as critical value is not much less than statistical value there is a conclusion that although women had a priority over men to take place in lifeboat there still was some priority for men from first class than for men from 3rd class. Probably wealthy people can have just a little but still more advantages even during disaster."
   ]
  },
  {
   "cell_type": "markdown",
   "metadata": {},
   "source": [
    "Conclusion: according tests and data analysis there were found 2 main factors that made people more likely to survive: class and sex. There were strong advantage for women to get on lifeboards than for men and it didn't depend on what class women were from. But also according tests it is noticed that male passengers from 1st class still had some advantage over other male passengers to get on lifeboats. Probably during evacuation there were chaos and some people violated rule \"women and children first\" that's why there are more men from 1st class survived than from 2nd and 3rd."
   ]
  },
  {
   "cell_type": "markdown",
   "metadata": {},
   "source": [
    "There is still question: is there a dependency between deck where passengers' cabins and survival?"
   ]
  },
  {
   "cell_type": "code",
   "execution_count": 107,
   "metadata": {
    "collapsed": false
   },
   "outputs": [
    {
     "name": "stdout",
     "output_type": "stream",
     "text": [
      "Does survival depend on deck?\n",
      "Observed values: \n",
      "   Survived  Survived\n",
      "A         8       7.0\n",
      "B        12      35.0\n",
      "C        24      35.0\n",
      "D         8      25.0\n",
      "E         8      24.0\n",
      "F         5       8.0\n",
      "G         2       2.0\n",
      "T         1       0.0\n",
      "Expected values: \n",
      "    Survived   Survived\n",
      "A   5.000000  10.000000\n",
      "B  15.666667  31.333333\n",
      "C  19.666667  39.333333\n",
      "D  11.000000  22.000000\n",
      "E  10.666667  21.333333\n",
      "F   4.333333   8.666667\n",
      "G   1.333333   2.666667\n",
      "T   0.333333   0.666667\n",
      "10.3005563135\n"
     ]
    }
   ],
   "source": [
    "deck_series = titanic_data['Cabin'].dropna().apply(lambda deck: deck[0]) #first letter of cabin is deck name\n",
    "m = pd.concat([titanic_data['Survived'], deck_series], axis = 1).dropna()\n",
    "print 'Does survival depend on deck?'\n",
    "print calc_chi_squared(m[m.Survived == 1].groupby('Cabin'), m[m.Survived == 0].groupby('Cabin'))"
   ]
  },
  {
   "cell_type": "markdown",
   "metadata": {},
   "source": [
    "Result: according df=7 and critical χ2=14.067 it is possible to conclude that there was no dependency between survival and deck. Probably there were some time between collision with an iceberg and when ship has drowned so a lot of passengers could get deck with lifeboats. But there were a lot of gaps for cabin values in sample. And because of this our sample can't be very representative to say is there a real dependence between deck and survival."
   ]
  },
  {
   "cell_type": "code",
   "execution_count": 108,
   "metadata": {
    "collapsed": false
   },
   "outputs": [
    {
     "data": {
      "text/plain": [
       "<matplotlib.axes._subplots.AxesSubplot at 0x1196f1ed0>"
      ]
     },
     "execution_count": 108,
     "metadata": {},
     "output_type": "execute_result"
    },
    {
     "data": {
      "image/png": "[encoded data removed]",
      "text/plain": [
       "<matplotlib.figure.Figure at 0x1197dd1d0>"
      ]
     },
     "metadata": {},
     "output_type": "display_data"
    }
   ],
   "source": [
    "%matplotlib inline\n",
    "import matplotlib.pyplot as plt\n",
    "import seaborn as sns\n",
    "\n",
    "p = pd.concat([m[m.Survived == 1].groupby('Cabin').agg('count'), m.groupby('Cabin').agg('count')], axis=1).fillna(0)\n",
    "p.columns = ['Survived', 'Total'];\n",
    "p.plot(kind='bar')"
   ]
  },
  {
   "cell_type": "markdown",
   "metadata": {},
   "source": [
    "As described on the graph there are similar values of survived passengers according all passengers. But for deck C and deck A the percent of survived passengers is a little lower than for other decks. After decks investigation I didn't notice any specific factors that can explain this result. According http://titanic.wikia.com/wiki/C_Deck there were cabins for all types of classes on deck C and on deck A there were only several luxury cabins for first class passengers. As it was said perhaps there are too much gaps in data to certainly say what deck passengers were more likely to survive."
   ]
  },
  {
   "cell_type": "markdown",
   "metadata": {},
   "source": [
    "### 2nd question investigation\n",
    "\n",
    "Is there a correlation between age and survival?\n",
    "As we know that during the evacuation there was a rule \"women and children first\". So is there a correlation between age and survival?"
   ]
  },
  {
   "cell_type": "code",
   "execution_count": 109,
   "metadata": {
    "collapsed": true
   },
   "outputs": [],
   "source": [
    "def correlation(x, y): #function for calculation correlation between two values\n",
    "    mean_x = x.mean()\n",
    "    std_x = x.std(ddof = 0)\n",
    "    mean_y = y.mean()\n",
    "    std_y = y.std(ddof = 0)\n",
    "    standartized_x = (x - mean_x) / std_x\n",
    "    standartized_y = (y - mean_y) / std_y\n",
    "    correlation = standartized_x * standartized_y\n",
    "    res = correlation.mean()\n",
    "    return res"
   ]
  },
  {
   "cell_type": "code",
   "execution_count": 110,
   "metadata": {
    "collapsed": false
   },
   "outputs": [
    {
     "name": "stdout",
     "output_type": "stream",
     "text": [
      "Correlation between age and survival:\n",
      "-0.0779826784139\n"
     ]
    }
   ],
   "source": [
    "print 'Correlation between age and survival:'\n",
    "print correlation(titanic_data['Age'], titanic_data['Survived']) #finding correlation between Age and Survival\n"
   ]
  },
  {
   "cell_type": "markdown",
   "metadata": {},
   "source": [
    "Result: as soon correlation value is only -0.078 that means that data values for age and survival has weak correlation in negative direction. That means that these two values are not very related. To find out how normed distributions of age looks like there is a histogram."
   ]
  },
  {
   "cell_type": "code",
   "execution_count": 111,
   "metadata": {
    "collapsed": false
   },
   "outputs": [
    {
     "data": {
      "text/plain": [
       "(array([ 0.01559914,  0.00823288,  0.02729849,  0.02816511,  0.02253209,\n",
       "         0.01039942,  0.0090995 ,  0.00389978,  0.        ,  0.00043331]),\n",
       " array([  0.42 ,   8.378,  16.336,  24.294,  32.252,  40.21 ,  48.168,\n",
       "         56.126,  64.084,  72.042,  80.   ]),\n",
       " <a list of 10 Patch objects>)"
      ]
     },
     "execution_count": 111,
     "metadata": {},
     "output_type": "execute_result"
    },
    {
     "data": {
      "image/png": "[encoded data removed]",
      "text/plain": [
       "<matplotlib.figure.Figure at 0x11be806d0>"
      ]
     },
     "metadata": {},
     "output_type": "display_data"
    }
   ],
   "source": [
    "%matplotlib inline\n",
    "import matplotlib.pyplot as plt\n",
    "import seaborn as sns\n",
    "\n",
    "survived_grouped = titanic_data.groupby('Survived').get_group(1)\n",
    "\n",
    "plt.xlabel('Age')\n",
    "plt.ylabel('Frequency')\n",
    "plt.text(50, 0.025, 'Blue: all. Grey: survived.')\n",
    "plt.hist(titanic_data['Age'].dropna(), normed = True)\n",
    "plt.hist(survived_grouped['Age'].dropna(), normed = True, fc=(0.5, 0.5, 0.5, 0.5))"
   ]
  },
  {
   "cell_type": "markdown",
   "metadata": {},
   "source": [
    "Conclusion: even there is no strong correlation between age and survival but we still can notice that distribution of ages for survived passengers a little different than age distribution among all passengers. And the frequency for small children is much higher for survived. According this observation, it is possible to conclude that children had more chances to get on lifeboats. And this results can confirm that rule \"women and children first\" worked."
   ]
  },
  {
   "cell_type": "markdown",
   "metadata": {},
   "source": [
    "### 3rd question investigation\n",
    "According previous investigation we found that survival was depended on a class. So what prices people paid for tickets to different classes? What is the mean price for tickets for different classes?  How much people were in different classes?\n",
    "To answer this questions statistic values were calculated according each class."
   ]
  },
  {
   "cell_type": "code",
   "execution_count": 112,
   "metadata": {
    "collapsed": false
   },
   "outputs": [
    {
     "name": "stdout",
     "output_type": "stream",
     "text": [
      "Average price for 1st class ticket: 84.1546875 . Max price:  512.3292\n",
      "Average price for 2nd class ticket: 20.6621831522 . Max price:  73.5\n",
      "Average price for 3rd class ticket: 13.6755501018 . Max price:  69.55\n"
     ]
    }
   ],
   "source": [
    "print 'Average price for 1st class ticket:',  first_class['Fare'].mean(), '. Max price: ', first_class['Fare'].max()\n",
    "second_class = titanic_data.groupby(['Pclass']).get_group(2)\n",
    "print 'Average price for 2nd class ticket:', second_class['Fare'].mean(), '. Max price: ', second_class['Fare'].max()\n",
    "print 'Average price for 3rd class ticket:', third_class['Fare'].mean(), '. Max price: ', third_class['Fare'].max()\n"
   ]
  },
  {
   "cell_type": "code",
   "execution_count": 113,
   "metadata": {
    "collapsed": false
   },
   "outputs": [
    {
     "data": {
      "text/plain": [
       "<matplotlib.axes._subplots.AxesSubplot at 0x11af38e90>"
      ]
     },
     "execution_count": 113,
     "metadata": {},
     "output_type": "execute_result"
    },
    {
     "data": {
      "image/png": "[encoded data removed]",
      "text/plain": [
       "<matplotlib.figure.Figure at 0x11ae216d0>"
      ]
     },
     "metadata": {},
     "output_type": "display_data"
    }
   ],
   "source": [
    "sorted_fare_first = titanic_data[['Fare', 'Pclass']]\n",
    "a = sorted_fare_first[(sorted_fare_first.Fare-sorted_fare_first.Fare.mean()).abs()<3*sorted_fare_first.Fare.std()]\n",
    "\n",
    "plt.figure(figsize = (10,6))\n",
    "sns.violinplot(x='Pclass', y='Fare', data = a)"
   ]
  },
  {
   "cell_type": "markdown",
   "metadata": {},
   "source": [
    "Conclusion: according this plot there was a big range for price for the first class, the average price for first class is 4 or more times higher than for 2nd and 3rd classes. The diagrams for 2nd and 3rd classes are not so stretches as for 1st class and looks similar vertically. On this graph we also see the difference between number of people. The largest was 3rd class, and there were not so much people in 1st class and especially who paid a lot for this voyage."
   ]
  },
  {
   "cell_type": "markdown",
   "metadata": {},
   "source": [
    "### Conclusion\n",
    "The more I was investigating this data the more questions I've got. After several tests and Titanic disaster investigation and according data sample I've found several factors that made people more or less likely to survive and calculated interesting statistics about passengers on Titanic. As soon as there were a lot of discussions about this disaster and nobody really knows that exactly happened there still will be gaps in conclusions but even though there are some hypothesis that were confirmed. And according this results we can have an image of this terrible night."
   ]
  }
 ],
 "metadata": {
  "anaconda-cloud": {},
  "kernelspec": {
   "display_name": "Python [Root]",
   "language": "python",
   "name": "Python [Root]"
  },
  "language_info": {
   "codemirror_mode": {
    "name": "ipython",
    "version": 2
   },
   "file_extension": ".py",
   "mimetype": "text/x-python",
   "name": "python",
   "nbconvert_exporter": "python",
   "pygments_lexer": "ipython2",
   "version": "2.7.12"
  }
 },
 "nbformat": 4,
 "nbformat_minor": 0
}
